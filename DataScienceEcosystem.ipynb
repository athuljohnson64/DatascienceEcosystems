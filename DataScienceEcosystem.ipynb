{
 "cells": [
  {
   "cell_type": "markdown",
   "id": "0ff378b5-7d83-4358-885a-8f9a1361ac6e",
   "metadata": {},
   "source": [
    "# Data Science Tools and Ecosystem"
   ]
  },
  {
   "cell_type": "markdown",
   "id": "1d082c4e-5604-4aa0-b150-296a5ef555e5",
   "metadata": {},
   "source": [
    "In this notebook, data science and ecosystem are summarized."
   ]
  },
  {
   "cell_type": "markdown",
   "id": "c36779a8-e439-4392-b69b-42d8fbfde2dc",
   "metadata": {},
   "source": [
    "**Objectives:**\n",
    "- popularly used data science languages\n",
    "- Commonly used libraries\n",
    "- Data science tools\n",
    "- Arithematic expressions"
   ]
  },
  {
   "cell_type": "markdown",
   "id": "e8ee7083-e8a5-4d3c-b71c-a85e18f4afde",
   "metadata": {},
   "source": [
    "Some of the most popularly used data science languages are :\n",
    "1. Python\n",
    "2. R\n",
    "3. Julia"
   ]
  },
  {
   "cell_type": "markdown",
   "id": "9526c4f5-f4dc-45bd-8ece-b14b1c6df08c",
   "metadata": {},
   "source": [
    "Some of the commonly used libraries by data scientists include :\n",
    "1. Pandas\n",
    "2. Numpy\n",
    "3. Tensorflow"
   ]
  },
  {
   "cell_type": "markdown",
   "id": "6d1077e6-47f1-471a-8a9b-9fcf50627d5c",
   "metadata": {},
   "source": [
    "| Data Science Tools |\n",
    "| ------------------ |\n",
    "| R Studio |\n",
    "| Apache Spark |\n",
    "| TensorFlow |\n"
   ]
  },
  {
   "cell_type": "markdown",
   "id": "16d3f2fe-362d-41e9-b583-5ec6f7b57e0e",
   "metadata": {},
   "source": [
    "### Below are a few examples of evaluating arithematic expressions in python:"
   ]
  },
  {
   "cell_type": "code",
   "execution_count": 6,
   "id": "a77a6fe6-2d0c-4419-b85c-97c1aa161766",
   "metadata": {},
   "outputs": [
    {
     "data": {
      "text/plain": [
       "30"
      ]
     },
     "execution_count": 6,
     "metadata": {},
     "output_type": "execute_result"
    }
   ],
   "source": [
    "10+20"
   ]
  },
  {
   "cell_type": "code",
   "execution_count": 7,
   "id": "2cf3e1df-11f5-42ae-90d6-ce1fef259922",
   "metadata": {},
   "outputs": [
    {
     "data": {
      "text/plain": [
       "200"
      ]
     },
     "execution_count": 7,
     "metadata": {},
     "output_type": "execute_result"
    }
   ],
   "source": [
    "10*20"
   ]
  },
  {
   "cell_type": "code",
   "execution_count": 8,
   "id": "860e61a2-ea0f-4971-8974-30af5dcfb0c0",
   "metadata": {},
   "outputs": [
    {
     "data": {
      "text/plain": [
       "17"
      ]
     },
     "execution_count": 8,
     "metadata": {},
     "output_type": "execute_result"
    }
   ],
   "source": [
    "(3*4)+5"
   ]
  },
  {
   "cell_type": "markdown",
   "id": "0011e993-4acd-472b-b5bf-9f00b9b1eea0",
   "metadata": {},
   "source": [
    "This will convert 200 minutes to hours"
   ]
  },
  {
   "cell_type": "code",
   "execution_count": 10,
   "id": "0997733b-dffd-4826-a696-7d915fdc3700",
   "metadata": {},
   "outputs": [
    {
     "data": {
      "text/plain": [
       "3.3333333333333335"
      ]
     },
     "execution_count": 10,
     "metadata": {},
     "output_type": "execute_result"
    }
   ],
   "source": [
    "200/60"
   ]
  },
  {
   "cell_type": "markdown",
   "id": "34423d21-8cfd-4aa2-bc98-52915b383fe6",
   "metadata": {},
   "source": [
    "## Author\n",
    "**Athul Johnson**"
   ]
  },
  {
   "cell_type": "code",
   "execution_count": null,
   "id": "21bae9d0-620c-4b00-9614-a7605a930c84",
   "metadata": {},
   "outputs": [],
   "source": []
  }
 ],
 "metadata": {
  "kernelspec": {
   "display_name": "Python",
   "language": "python",
   "name": "conda-env-python-py"
  },
  "language_info": {
   "codemirror_mode": {
    "name": "ipython",
    "version": 3
   },
   "file_extension": ".py",
   "mimetype": "text/x-python",
   "name": "python",
   "nbconvert_exporter": "python",
   "pygments_lexer": "ipython3",
   "version": "3.7.12"
  }
 },
 "nbformat": 4,
 "nbformat_minor": 5
}
